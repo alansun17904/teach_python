{
 "cells": [
  {
   "cell_type": "markdown",
   "metadata": {},
   "source": [
    "# Functions\n",
    "## Function CALLS\n",
    "Call is the word that we use when we refer to using a function. A function takes an input and `return`s an output.\n",
    "An example of this would be something that we have explored already, the `type` function."
   ]
  },
  {
   "cell_type": "code",
   "execution_count": 1,
   "metadata": {
    "scrolled": true
   },
   "outputs": [
    {
     "data": {
      "text/plain": [
       "int"
      ]
     },
     "execution_count": 1,
     "metadata": {},
     "output_type": "execute_result"
    }
   ],
   "source": [
    "type(42)"
   ]
  },
  {
   "cell_type": "markdown",
   "metadata": {},
   "source": [
    "can you descript the input and output of the above function?"
   ]
  },
  {
   "cell_type": "markdown",
   "metadata": {},
   "source": [
    "## Importing\n",
    "We can also use functions from other modules (a file that contains lots of functions)."
   ]
  },
  {
   "cell_type": "code",
   "execution_count": 6,
   "metadata": {},
   "outputs": [
    {
     "data": {
      "text/plain": [
       "<module 'math' from '/anaconda3/lib/python3.6/lib-dynload/math.cpython-36m-darwin.so'>"
      ]
     },
     "execution_count": 6,
     "metadata": {},
     "output_type": "execute_result"
    }
   ],
   "source": [
    "import math  # we have imported the math module, now we can use functions from that module\n",
    "math"
   ]
  },
  {
   "cell_type": "code",
   "execution_count": 9,
   "metadata": {},
   "outputs": [
    {
     "data": {
      "text/plain": [
       "2.0"
      ]
     },
     "execution_count": 9,
     "metadata": {},
     "output_type": "execute_result"
    }
   ],
   "source": [
    "math.sqrt(4)  # describe what the input and output of this function is"
   ]
  },
  {
   "cell_type": "markdown",
   "metadata": {},
   "source": [
    "## Making our own functions\n",
    "\n",
    "Functions are the most important building block of any program / programming language. Think about this for a sec, if you were to each someone how to shoot a basketball you would probably give them some instructions (bend your knees, raise your shooting hand, look at the hoop...blah blah blah). If that person were to go to a basketball game, he or she would probably have to shoot the ball a lot, at this point to instruct the person, would you repeat all the instructions? or just ask them to \"shoot the ball\"?\n",
    "\n",
    "**describe what the following function does**"
   ]
  },
  {
   "cell_type": "code",
   "execution_count": 15,
   "metadata": {},
   "outputs": [],
   "source": [
    "def add(x, y):  # def is a keyword that says this is going to be a function\n",
    "    '''\n",
    "    after the def keyword we have our function name and out inputs (parameters: x and y)\n",
    "    this line MUST be followed by a colon.\n",
    "    '''\n",
    "    return x + y  # output the result of x + y"
   ]
  },
  {
   "cell_type": "markdown",
   "metadata": {},
   "source": [
    "### Flow of Execution\n",
    "Everything in Python runs from top to bottom, every single line is ran. The flow starts at the first statment of the program and progresses all the way to the bottom.\n",
    "\n",
    "\n",
    "Function definitions do not alter the flow of execution of the program, but remember that statements inside the function don’t run until the function is called.\n",
    "\n",
    "A function call is like a detour in the flow of execution. Instead of going to the next state- ment, the flow jumps to the body of the function, runs the statements there, and then comes back to pick up where it left off.\n",
    "\n",
    "That sounds simple enough, until you remember that one function can call another. While in the middle of one function, the program might have to run the statements in another function. Then, while running that new function, the program might have to run yet an- other function!\n",
    "\n",
    "Fortunately, Python is good at keeping track of where it is, so each time a function com- pletes, the program picks up where it left off in the function that called it. When it gets to the end of the program, it terminates."
   ]
  },
  {
   "cell_type": "code",
   "execution_count": 19,
   "metadata": {},
   "outputs": [
    {
     "name": "stdout",
     "output_type": "stream",
     "text": [
      "Hello Alan Sun!\n",
      "You are now logged in! Welcome to this website!\n"
     ]
    }
   ],
   "source": [
    "def greetings(name):\n",
    "    print(\"Hello \" + name + \"!\")\n",
    "    \n",
    "def login(name):\n",
    "    greetings(name)\n",
    "    print(\"You are now logged in! Welcome to this website!\")\n",
    "\n",
    "\n",
    "login(\"Alan Sun\")"
   ]
  },
  {
   "cell_type": "markdown",
   "metadata": {},
   "source": [
    "## Void Functions and \"Fruitful\" Functions\n",
    "Void functions don't return anything, and fruitful functions return stuff.\n",
    "\n",
    "**which of the following is a fruitful function and which is a void function?**"
   ]
  },
  {
   "cell_type": "code",
   "execution_count": 20,
   "metadata": {},
   "outputs": [],
   "source": [
    "def add(x, y):\n",
    "    return x + y"
   ]
  },
  {
   "cell_type": "code",
   "execution_count": 22,
   "metadata": {},
   "outputs": [],
   "source": [
    "def subtract(x, y):\n",
    "    print(x - y)"
   ]
  },
  {
   "cell_type": "code",
   "execution_count": 23,
   "metadata": {},
   "outputs": [],
   "source": [
    "def sum_odd_range(num):\n",
    "    return sum([v for v in num if num%2])"
   ]
  },
  {
   "cell_type": "code",
   "execution_count": 24,
   "metadata": {},
   "outputs": [],
   "source": [
    "def zeros(n):\n",
    "    num = n\n",
    "    sum = 0\n",
    "    while num > 5:\n",
    "        sum += int(num/5)\n",
    "        num /= 5\n",
    "    return sum"
   ]
  },
  {
   "cell_type": "code",
   "execution_count": 26,
   "metadata": {},
   "outputs": [],
   "source": [
    "def abbrevName(name):\n",
    "    print(name)\n",
    "    return name.split()[0][0].title() + '.' + name.split()[1][0].title()"
   ]
  },
  {
   "cell_type": "markdown",
   "metadata": {},
   "source": [
    "ok...you guys probably get the point."
   ]
  },
  {
   "cell_type": "markdown",
   "metadata": {},
   "source": [
    "# Attempt the Box Challenge"
   ]
  }
 ],
 "metadata": {
  "kernelspec": {
   "display_name": "Python 3",
   "language": "python",
   "name": "python3"
  },
  "language_info": {
   "codemirror_mode": {
    "name": "ipython",
    "version": 3
   },
   "file_extension": ".py",
   "mimetype": "text/x-python",
   "name": "python",
   "nbconvert_exporter": "python",
   "pygments_lexer": "ipython3",
   "version": "3.6.5"
  }
 },
 "nbformat": 4,
 "nbformat_minor": 2
}
