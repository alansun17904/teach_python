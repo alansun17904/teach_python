{
 "cells": [
  {
   "cell_type": "markdown",
   "metadata": {},
   "source": [
    "Try to solve this logic puzzle, before we get started. Explain what the function `fizzbuzz()` does. This question is one of the most asked questions when coders / developpers are interviewed for a position. Normally this question is done over the phone and you are supposed to speak in perfect code and it is supposed to run properly.\n",
    "\n",
    "<table style=\"width:30;\">\n",
    "  <tr>\n",
    "    <th>Function</th>\n",
    "    <th>Output</th> \n",
    "  </tr>\n",
    "  <tr>\n",
    "    <td><code>fizzbuzz(3)</code></td>\n",
    "    <td><code>\"Fizz\"</code></td> \n",
    "  </tr>\n",
    "  <tr>\n",
    "    <td><code>fizzbuzz(6)</code></td>\n",
    "    <td><code>\"Fizz\"</code></td> \n",
    "  </tr>\n",
    "  <tr>\n",
    "    <td><code>fizzbuzz(9)</code></td>\n",
    "    <td><code>\"Fizz\"</code></td> \n",
    "  </tr> \n",
    "  <tr>\n",
    "    <td><code>fizzbuzz(5)</code></td>\n",
    "    <td><code>\"Buzz\"</code></td> \n",
    "  </tr>\n",
    "  <tr>\n",
    "    <td><code>fizzbuzz(10)</code></td>\n",
    "    <td><code>\"Buzz\"</code></td> \n",
    "  </tr>\n",
    "  <tr>\n",
    "    <td><code>fizzbuzz(25)</code></td>\n",
    "    <td><code>\"Buzz\"</code></td> \n",
    "  </tr>\n",
    "  <tr>\n",
    "    <td><code>fizzbuzz(15)</code></td>\n",
    "    <td><code>\"FizzBuzz\"</code></td> \n",
    "  </tr>\n",
    "  <tr>\n",
    "    <td><code>fizzbuzz(30)</code></td>\n",
    "    <td><code>\"FizzBuzz\"</code></td> \n",
    "  </tr>\n",
    "</table>\n",
    "\n",
    "\n",
    "\n"
   ]
  },
  {
   "cell_type": "markdown",
   "metadata": {},
   "source": [
    "# First Lesson of Python! (8/30/18)\n",
    "---\n",
    "### Objectives\n",
    "- Learn how to use Python through the terminal\n",
    "- the `print` statement\n",
    "- using Python as a calculator\n",
    "- using variables in Python and doing calculations with it.\n",
    "- *Install Pycharm and talk about some GitHub vocab*\n",
    "\n",
    "\n",
    "### The `print` statement\n",
    "- the print STATEMENT displays stuff in Python\n",
    "- it is probably the most used statement in Python that's kinda why we are doing it first\n",
    "- good for debugging\n",
    "- easy to understand"
   ]
  },
  {
   "cell_type": "code",
   "execution_count": 1,
   "metadata": {},
   "outputs": [
    {
     "name": "stdout",
     "output_type": "stream",
     "text": [
      "5\n"
     ]
    }
   ],
   "source": [
    "print 5"
   ]
  },
  {
   "cell_type": "code",
   "execution_count": 2,
   "metadata": {},
   "outputs": [
    {
     "name": "stdout",
     "output_type": "stream",
     "text": [
      "10\n"
     ]
    }
   ],
   "source": [
    "print 10"
   ]
  },
  {
   "cell_type": "markdown",
   "metadata": {},
   "source": [
    "Think about why the below example gives an error."
   ]
  },
  {
   "cell_type": "code",
   "execution_count": 3,
   "metadata": {
    "scrolled": true
   },
   "outputs": [
    {
     "ename": "SyntaxError",
     "evalue": "invalid syntax (<ipython-input-3-77eca6df1792>, line 1)",
     "output_type": "error",
     "traceback": [
      "\u001b[0;36m  File \u001b[0;32m\"<ipython-input-3-77eca6df1792>\"\u001b[0;36m, line \u001b[0;32m1\u001b[0m\n\u001b[0;31m    print Hello, world!\u001b[0m\n\u001b[0m                      ^\u001b[0m\n\u001b[0;31mSyntaxError\u001b[0m\u001b[0;31m:\u001b[0m invalid syntax\n"
     ]
    }
   ],
   "source": [
    "print \"Hello, world!\""
   ]
  },
  {
   "cell_type": "markdown",
   "metadata": {},
   "source": [
    "Try to have match the EXACT output in the following exercises.\n",
    "\n",
    "```r\n",
    ">>> **your code here**\n",
    "Hello, world!\n",
    "\n",
    ">>> **your code here**\n",
    "5 + 10\n",
    "\n",
    ">>> **your code here**\n",
    "I LOVE english class it is so FUN\n",
    "\n",
    ">>> **your code here**\n",
    "\"Where’s my super suit?\"\n",
    "```"
   ]
  },
  {
   "cell_type": "markdown",
   "metadata": {},
   "source": [
    "### Using Python as a calculator"
   ]
  },
  {
   "cell_type": "code",
   "execution_count": 1,
   "metadata": {
    "scrolled": false
   },
   "outputs": [
    {
     "data": {
      "text/plain": [
       "10"
      ]
     },
     "execution_count": 1,
     "metadata": {},
     "output_type": "execute_result"
    }
   ],
   "source": [
    "5 + 5"
   ]
  },
  {
   "cell_type": "code",
   "execution_count": 7,
   "metadata": {},
   "outputs": [
    {
     "data": {
      "text/plain": [
       "168"
      ]
     },
     "execution_count": 7,
     "metadata": {},
     "output_type": "execute_result"
    }
   ],
   "source": [
    "14 * 12"
   ]
  },
  {
   "cell_type": "code",
   "execution_count": 8,
   "metadata": {
    "scrolled": false
   },
   "outputs": [
    {
     "data": {
      "text/plain": [
       "7"
      ]
     },
     "execution_count": 8,
     "metadata": {},
     "output_type": "execute_result"
    }
   ],
   "source": [
    "12 - 5"
   ]
  },
  {
   "cell_type": "markdown",
   "metadata": {},
   "source": [
    "What will the following statements == to? How many of these operations can you name? "
   ]
  },
  {
   "cell_type": "code",
   "execution_count": 11,
   "metadata": {
    "scrolled": true
   },
   "outputs": [
    {
     "data": {
      "text/plain": [
       "0.5"
      ]
     },
     "execution_count": 11,
     "metadata": {},
     "output_type": "execute_result"
    }
   ],
   "source": [
    "2 / 3"
   ]
  },
  {
   "cell_type": "code",
   "execution_count": 13,
   "metadata": {},
   "outputs": [
    {
     "data": {
      "text/plain": [
       "2.0"
      ]
     },
     "execution_count": 13,
     "metadata": {},
     "output_type": "execute_result"
    }
   ],
   "source": [
    "8. // 3"
   ]
  },
  {
   "cell_type": "code",
   "execution_count": 14,
   "metadata": {
    "scrolled": true
   },
   "outputs": [
    {
     "data": {
      "text/plain": [
       "8"
      ]
     },
     "execution_count": 14,
     "metadata": {},
     "output_type": "execute_result"
    }
   ],
   "source": [
    "2 ** 3"
   ]
  },
  {
   "cell_type": "code",
   "execution_count": 18,
   "metadata": {},
   "outputs": [
    {
     "data": {
      "text/plain": [
       "1"
      ]
     },
     "execution_count": 18,
     "metadata": {},
     "output_type": "execute_result"
    }
   ],
   "source": [
    "5 % 2"
   ]
  },
  {
   "cell_type": "markdown",
   "metadata": {},
   "source": [
    "### Variables!!! (The most important thing in programming)"
   ]
  },
  {
   "cell_type": "code",
   "execution_count": 19,
   "metadata": {},
   "outputs": [],
   "source": [
    "x = 5"
   ]
  },
  {
   "cell_type": "markdown",
   "metadata": {},
   "source": [
    "What does `print x` display, `Syntax Error`? or `5`."
   ]
  },
  {
   "cell_type": "code",
   "execution_count": 20,
   "metadata": {},
   "outputs": [
    {
     "name": "stdout",
     "output_type": "stream",
     "text": [
      "5\n"
     ]
    }
   ],
   "source": [
    "print x"
   ]
  },
  {
   "cell_type": "markdown",
   "metadata": {},
   "source": [
    "#### WAIT WUT BUT THIS DOESNT MAKE SENSE...\n",
    "```python\n",
    "x = x + 1\n",
    "```"
   ]
  },
  {
   "cell_type": "code",
   "execution_count": 22,
   "metadata": {
    "scrolled": true
   },
   "outputs": [
    {
     "name": "stdout",
     "output_type": "stream",
     "text": [
      "7\n",
      "7\n"
     ]
    }
   ],
   "source": [
    "x = 5\n",
    "x = x + 1  # what is the value of x? **x = 6\n",
    "y = x + 1  # what is the value of x? **x = 6\n",
    "y = x = x + 1  # what is the value of x? \n",
    "\n",
    "print x\n",
    "print y"
   ]
  },
  {
   "cell_type": "markdown",
   "metadata": {},
   "source": [
    "Try the following exercises:\n",
    "1. Using Python convert 5 minutes into seconds, 429 minutes and 38 seconds to seconds.\n",
    "2. Using Python convert 1 km to miles, 42.34 km to miles.\n",
    "3. print the following statement exactly `Hello, world!`.\n",
    "4. print the following statement exactly `\"I am a nice shark, not a mindless eating machine.\" - Finding Nemo`.\n",
    "\n",
    "The following code is run:\n",
    "```python\n",
    "x = x + 1\n",
    "y = x\n",
    "y = x + 2\n",
    "y = x\n",
    "x = x + 1\n",
    "```\n",
    "if at the end of this program `x == 10` what does `y` equal to at the end of the program."
   ]
  }
 ],
 "metadata": {
  "kernelspec": {
   "display_name": "Python 2",
   "language": "python",
   "name": "python2"
  },
  "language_info": {
   "codemirror_mode": {
    "name": "ipython",
    "version": 2
   },
   "file_extension": ".py",
   "mimetype": "text/x-python",
   "name": "python",
   "nbconvert_exporter": "python",
   "pygments_lexer": "ipython2",
   "version": "2.7.15"
  }
 },
 "nbformat": 4,
 "nbformat_minor": 2
}
